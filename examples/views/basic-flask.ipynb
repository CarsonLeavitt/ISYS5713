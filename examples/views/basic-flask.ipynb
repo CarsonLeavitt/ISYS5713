{
 "cells": [
  {
   "cell_type": "markdown",
   "metadata": {},
   "source": [
    "# Front-end for the Flask app\n",
    "This is the front-end for the basic-flask example.  It is a simple Jupyter notebook showing how to use the requests library to connect to the Flask app.\n",
    " \n",
    "Before running this notebook, it will be required to run the Flask app.  This can be done by running the following command in a terminal:\n",
    " \n",
    "```bash\n",
    "python3 basic-flask.py\n",
    "```\n"
   ]
  },
  {
   "cell_type": "markdown",
   "metadata": {},
   "source": [
    "## GET all the customers in the database\n",
    "While this isn't always the most practical approach (to get everything), we are looking for simple here, so we're going to get all the customers.  This first cell will demonstrate how to make a generic GET request to the Flask app."
   ]
  },
  {
   "cell_type": "code",
   "execution_count": 38,
   "metadata": {},
   "outputs": [
    {
     "name": "stdout",
     "output_type": "stream",
     "text": [
      "Respose Status: 200\n",
      "[2, 'Leonie', 'Köhler', None, 'Theodor-Heuss-Straße 34', 'Stuttgart', None, 'Germany', '70174', '+49 0711 2842222', None, 'leonekohler@surfeu.de', 5]\n",
      "[3, 'François', 'Tremblay', None, '1498 rue Bélanger', 'Montréal', 'QC', 'Canada', 'H2G 1A7', '+1 (514) 721-4711', None, 'ftremblay@gmail.com', 3]\n",
      "[4, 'Bjørn', 'Hansen', None, 'Ullevålsveien 14', 'Oslo', None, 'Norway', '0171', '+47 22 44 22 22', None, 'bjorn.hansen@yahoo.no', 4]\n",
      "[5, 'František', 'Wichterlová', 'JetBrains s.r.o.', 'Klanova 9/506', 'Prague', None, 'Czech Republic', '14700', '+420 2 4172 5555', '+420 2 4172 5555', 'frantisekw@jetbrains.com', 4]\n",
      "[6, 'Helena', 'Holý', None, 'Rilská 3174/6', 'Prague', None, 'Czech Republic', '14300', '+420 2 4177 0449', None, 'hholy@gmail.com', 5]\n",
      "[7, 'Astrid', 'Gruber', None, 'Rotenturmstraße 4, 1010 Innere Stadt', 'Vienne', None, 'Austria', '1010', '+43 01 5134505', None, 'astrid.gruber@apple.at', 5]\n",
      "[8, 'Daan', 'Peeters', None, 'Grétrystraat 63', 'Brussels', None, 'Belgium', '1000', '+32 02 219 03 03', None, 'daan_peeters@apple.be', 4]\n",
      "[9, 'Kara', 'Nielsen', None, 'Sønder Boulevard 51', 'Copenhagen', None, 'Denmark', '1720', '+453 3331 9991', None, 'kara.nielsen@jubii.dk', 4]\n",
      "[10, 'Eduardo', 'Martins', 'Woodstock Discos', 'Rua Dr. Falcão Filho, 155', 'São Paulo', 'SP', 'Brazil', '01007-010', '+55 (11) 3033-5446', '+55 (11) 3033-4564', 'eduardo@woodstock.com.br', 4]\n",
      "[11, 'Alexandre', 'Rocha', 'Banco do Brasil S.A.', 'Av. Paulista, 2022', 'São Paulo', 'SP', 'Brazil', '01310-200', '+55 (11) 3055-3278', '+55 (11) 3055-8131', 'alero@uol.com.br', 5]\n",
      "[12, 'Roberto', 'Almeida', 'Riotur', 'Praça Pio X, 119', 'Rio de Janeiro', 'RJ', 'Brazil', '20040-020', '+55 (21) 2271-7000', '+55 (21) 2271-7070', 'roberto.almeida@riotur.gov.br', 3]\n",
      "[13, 'Fernanda', 'Ramos', None, 'Qe 7 Bloco G', 'Brasília', 'DF', 'Brazil', '71020-677', '+55 (61) 3363-5547', '+55 (61) 3363-7855', 'fernadaramos4@uol.com.br', 4]\n",
      "[14, 'Mark', 'Philips', 'Telus', '8210 111 ST NW', 'Edmonton', 'AB', 'Canada', 'T6G 2C7', '+1 (780) 434-4554', '+1 (780) 434-5565', 'mphilips12@shaw.ca', 5]\n",
      "[15, 'Jennifer', 'Peterson', 'Rogers Canada', '700 W Pender Street', 'Vancouver', 'BC', 'Canada', 'V6C 1G8', '+1 (604) 688-2255', '+1 (604) 688-8756', 'jenniferp@rogers.ca', 3]\n",
      "[16, 'Frank', 'Harris', 'Google Inc.', '1600 Amphitheatre Parkway', 'Mountain View', 'CA', 'USA', '94043-1351', '+1 (650) 253-0000', '+1 (650) 253-0000', 'fharris@google.com', 4]\n",
      "[17, 'Jack', 'Smith', 'Microsoft Corporation', '1 Microsoft Way', 'Redmond', 'WA', 'USA', '98052-8300', '+1 (425) 882-8080', '+1 (425) 882-8081', 'jacksmith@microsoft.com', 5]\n",
      "[18, 'Michelle', 'Brooks', None, '627 Broadway', 'New York', 'NY', 'USA', '10012-2612', '+1 (212) 221-3546', '+1 (212) 221-4679', 'michelleb@aol.com', 3]\n",
      "[19, 'Tim', 'Goyer', 'Apple Inc.', '1 Infinite Loop', 'Cupertino', 'CA', 'USA', '95014', '+1 (408) 996-1010', '+1 (408) 996-1011', 'tgoyer@apple.com', 3]\n",
      "[20, 'Dan', 'Miller', None, '541 Del Medio Avenue', 'Mountain View', 'CA', 'USA', '94040-111', '+1 (650) 644-3358', None, 'dmiller@comcast.com', 4]\n",
      "[21, 'Kathy', 'Chase', None, '801 W 4th Street', 'Reno', 'NV', 'USA', '89503', '+1 (775) 223-7665', None, 'kachase@hotmail.com', 5]\n",
      "[22, 'Heather', 'Leacock', None, '120 S Orange Ave', 'Orlando', 'FL', 'USA', '32801', '+1 (407) 999-7788', None, 'hleacock@gmail.com', 4]\n",
      "[23, 'John', 'Gordon', None, '69 Salem Street', 'Boston', 'MA', 'USA', '2113', '+1 (617) 522-1333', None, 'johngordon22@yahoo.com', 4]\n",
      "[24, 'Frank', 'Ralston', None, '162 E Superior Street', 'Chicago', 'IL', 'USA', '60611', '+1 (312) 332-3232', None, 'fralston@gmail.com', 3]\n",
      "[25, 'Victor', 'Stevens', None, '319 N. Frances Street', 'Madison', 'WI', 'USA', '53703', '+1 (608) 257-0597', None, 'vstevens@yahoo.com', 5]\n",
      "[26, 'Richard', 'Cunningham', None, '2211 W Berry Street', 'Fort Worth', 'TX', 'USA', '76110', '+1 (817) 924-7272', None, 'ricunningham@hotmail.com', 4]\n",
      "[27, 'Patrick', 'Gray', None, '1033 N Park Ave', 'Tucson', 'AZ', 'USA', '85719', '+1 (520) 622-4200', None, 'patrick.gray@aol.com', 4]\n",
      "[28, 'Julia', 'Barnett', None, '302 S 700 E', 'Salt Lake City', 'UT', 'USA', '84102', '+1 (801) 531-7272', None, 'jubarnett@gmail.com', 5]\n",
      "[29, 'Robert', 'Brown', None, '796 Dundas Street West', 'Toronto', 'ON', 'Canada', 'M6J 1V1', '+1 (416) 363-8888', None, 'robbrown@shaw.ca', 3]\n",
      "[30, 'Edward', 'Francis', None, '230 Elgin Street', 'Ottawa', 'ON', 'Canada', 'K2P 1L7', '+1 (613) 234-3322', None, 'edfrancis@yachoo.ca', 3]\n",
      "[31, 'Martha', 'Silk', None, '194A Chain Lake Drive', 'Halifax', 'NS', 'Canada', 'B3S 1C5', '+1 (902) 450-0450', None, 'marthasilk@gmail.com', 5]\n",
      "[32, 'Aaron', 'Mitchell', None, '696 Osborne Street', 'Winnipeg', 'MB', 'Canada', 'R3L 2B9', '+1 (204) 452-6452', None, 'aaronmitchell@yahoo.ca', 4]\n",
      "[33, 'Ellie', 'Sullivan', None, '5112 48 Street', 'Yellowknife', 'NT', 'Canada', 'X1A 1N6', '+1 (867) 920-2233', None, 'ellie.sullivan@shaw.ca', 3]\n",
      "[34, 'João', 'Fernandes', None, 'Rua da Assunção 53', 'Lisbon', None, 'Portugal', None, '+351 (213) 466-111', None, 'jfernandes@yahoo.pt', 4]\n",
      "[35, 'Madalena', 'Sampaio', None, 'Rua dos Campeões Europeus de Viena, 4350', 'Porto', None, 'Portugal', None, '+351 (225) 022-448', None, 'masampaio@sapo.pt', 4]\n",
      "[36, 'Hannah', 'Schneider', None, 'Tauentzienstraße 8', 'Berlin', None, 'Germany', '10789', '+49 030 26550280', None, 'hannah.schneider@yahoo.de', 5]\n",
      "[37, 'Fynn', 'Zimmermann', None, 'Berger Straße 10', 'Frankfurt', None, 'Germany', '60316', '+49 069 40598889', None, 'fzimmermann@yahoo.de', 3]\n",
      "[38, 'Niklas', 'Schröder', None, 'Barbarossastraße 19', 'Berlin', None, 'Germany', '10779', '+49 030 2141444', None, 'nschroder@surfeu.de', 3]\n",
      "[39, 'Camille', 'Bernard', None, '4, Rue Milton', 'Paris', None, 'France', '75009', '+33 01 49 70 65 65', None, 'camille.bernard@yahoo.fr', 4]\n",
      "[40, 'Dominique', 'Lefebvre', None, '8, Rue Hanovre', 'Paris', None, 'France', '75002', '+33 01 47 42 71 71', None, 'dominiquelefebvre@gmail.com', 4]\n",
      "[41, 'Marc', 'Dubois', None, '11, Place Bellecour', 'Lyon', None, 'France', '69002', '+33 04 78 30 30 30', None, 'marc.dubois@hotmail.com', 5]\n",
      "[42, 'Wyatt', 'Girard', None, '9, Place Louis Barthou', 'Bordeaux', None, 'France', '33000', '+33 05 56 96 96 96', None, 'wyatt.girard@yahoo.fr', 3]\n",
      "[43, 'Isabelle', 'Mercier', None, '68, Rue Jouvence', 'Dijon', None, 'France', '21000', '+33 03 80 73 66 99', None, 'isabelle_mercier@apple.fr', 3]\n",
      "[44, 'Terhi', 'Hämäläinen', None, 'Porthaninkatu 9', 'Helsinki', None, 'Finland', '00530', '+358 09 870 2000', None, 'terhi.hamalainen@apple.fi', 3]\n",
      "[45, 'Ladislav', 'Kovács', None, 'Erzsébet krt. 58.', 'Budapest', None, 'Hungary', 'H-1073', None, None, 'ladislav_kovacs@apple.hu', 3]\n",
      "[46, 'Hugh', \"O'Reilly\", None, '3 Chatham Street', 'Dublin', 'Dublin', 'Ireland', None, '+353 01 6792424', None, 'hughoreilly@apple.ie', 3]\n",
      "[47, 'Lucas', 'Mancini', None, 'Via Degli Scipioni, 43', 'Rome', 'RM', 'Italy', '00192', '+39 06 39733434', None, 'lucas.mancini@yahoo.it', 5]\n",
      "[48, 'Johannes', 'Van der Berg', None, 'Lijnbaansgracht 120bg', 'Amsterdam', 'VV', 'Netherlands', '1016', '+31 020 6223130', None, 'johavanderberg@yahoo.nl', 5]\n",
      "[49, 'Stanisław', 'Wójcik', None, 'Ordynacka 10', 'Warsaw', None, 'Poland', '00-358', '+48 22 828 37 39', None, 'stanisław.wójcik@wp.pl', 4]\n",
      "[50, 'Enrique', 'Muñoz', None, 'C/ San Bernardo 85', 'Madrid', None, 'Spain', '28015', '+34 914 454 454', None, 'enrique_munoz@yahoo.es', 5]\n",
      "[51, 'Joakim', 'Johansson', None, 'Celsiusg. 9', 'Stockholm', None, 'Sweden', '11230', '+46 08-651 52 52', None, 'joakim.johansson@yahoo.se', 5]\n",
      "[52, 'Emma', 'Jones', None, '202 Hoxton Street', 'London', None, 'United Kingdom', 'N1 5LH', '+44 020 7707 0707', None, 'emma_jones@hotmail.com', 3]\n",
      "[53, 'Phil', 'Hughes', None, '113 Lupus St', 'London', None, 'United Kingdom', 'SW1V 3EN', '+44 020 7976 5722', None, 'phil.hughes@gmail.com', 3]\n",
      "[54, 'Steve', 'Murray', None, '110 Raeburn Pl', 'Edinburgh ', None, 'United Kingdom', 'EH4 1HH', '+44 0131 315 3300', None, 'steve.murray@yahoo.uk', 5]\n",
      "[55, 'Mark', 'Taylor', None, '421 Bourke Street', 'Sidney', 'NSW', 'Australia', '2010', '+61 (02) 9332 3633', None, 'mark.taylor@yahoo.au', 4]\n",
      "[56, 'Diego', 'Gutiérrez', None, '307 Macacha Güemes', 'Buenos Aires', None, 'Argentina', '1106', '+54 (0)11 4311 4333', None, 'diego.gutierrez@yahoo.ar', 4]\n",
      "[57, 'Luis', 'Rojas', None, 'Calle Lira, 198', 'Santiago', None, 'Chile', None, '+56 (0)2 635 4444', None, 'luisrojas@yahoo.cl', 5]\n",
      "[58, 'Manoj', 'Pareek', None, '12,Community Centre', 'Delhi', None, 'India', '110017', '+91 0124 39883988', None, 'manoj.pareek@rediff.com', 3]\n",
      "[59, 'Puja', 'Srivastava', None, '3,Raj Bhavan Road', 'Bangalore', None, 'India', '560001', '+91 080 22289999', None, 'puja_srivastava@yahoo.in', 3]\n",
      "[60, 'John', 'Doe', 'Acme, Inc.', '123 Main St.', 'Anytown', 'AR', 'USA', '12345', '123-555-1234', '555-555-5555', '', None]\n"
     ]
    }
   ],
   "source": [
    "import requests\n",
    "from flask import jsonify\n",
    "import json\n",
    "\n",
    "# Set our endpoint\n",
    "url = \"http://localhost:5000/customers\"\n",
    "\n",
    "# We'll reserve the payload for POST/PUT methods generally\n",
    "payload = {}\n",
    "\n",
    "# We don't have any specific headers, but this can be used for authentication if required\n",
    "headers = {}\n",
    "\n",
    "# Make the request\n",
    "response = requests.request(\"GET\", url, headers=headers, data=payload)\n",
    "\n",
    "# The response object contains a lot of information about the response, including the status code\n",
    "print(f\"Respose Status: {response.status_code}\")\n",
    "# We can also get the response body as text, json, html or other.  In our case, we know it's json so let's just ask for that\n",
    "customers = response.json()\n",
    "\n",
    "for customer in customers:\n",
    "    print(customer)"
   ]
  },
  {
   "cell_type": "markdown",
   "metadata": {},
   "source": [
    "Perfect!  We've gotten back a list of customers, but they are pretty difficult to deal with.  I mean we have to parse the JSON, and then we have to deal with the fact that the data is in a list.  It would be much easier if we could get the data into Customer objects which can then be passed around a little easier. Let's do that."
   ]
  },
  {
   "cell_type": "code",
   "execution_count": null,
   "metadata": {},
   "outputs": [],
   "source": [
    "class Customer():\n",
    "    \n",
    "    def __init__(self, id, first_name, last_name, company, address, city, state, country, postal_code, phone, fax, email, support_rep_id ) :\n",
    "        self.id = id\n",
    "        self.first_name = first_name\n",
    "        self.last_name = last_name\n",
    "        self.company = company\n",
    "        self.address = address\n",
    "        self.city = city\n",
    "        self.state = state\n",
    "        self.country = country\n",
    "        self.postal_code = postal_code\n",
    "        self.phone = phone\n",
    "        self.fax = fax\n",
    "        self.email = email\n",
    "        self.support_rep_id = support_rep_id\n",
    "    \n",
    "    def to_json():\n",
    "        customer_dict = {\"id\": self.id,\n",
    "                         \"first_name\": self.first_name,\n",
    "                         \"last_name\": self.last_name,\n",
    "                         \"company\": self.company,\n",
    "                         \"address\": self.address,\n",
    "                         \"city\": self.city,\n",
    "                         \"state\": self.state,\n",
    "                         \"country\": self.country,\n",
    "                         \"postal_code\": self.postal_code,\n",
    "                         \"phone\": self.phone,\n",
    "                         \"fax\": self.fax,\n",
    "                         \"email\": self.email,\n",
    "                         \"support_rep_id\": self.support_rep_id}\n",
    "        return customer_dict.jsonify()"
   ]
  },
  {
   "cell_type": "code",
   "execution_count": 32,
   "metadata": {},
   "outputs": [
    {
     "name": "stdout",
     "output_type": "stream",
     "text": [
      "<__main__.Customer object at 0x7fa27377ccd0>\n",
      "Tim\n"
     ]
    }
   ],
   "source": [
    "# Let's store our customers in a dictionary.  The lookup will be by last name\n",
    "customer_directory = {}\n",
    "for item in customers:\n",
    "    customer = Customer(item[0], item[1], item[2], item[3], item[4], item[5], item[6],item[7], item[8], item[9], item[10], item[11], item[12])\n",
    "    customer_directory[customer.last_name] = customer\n",
    "\n",
    "# Now we can lookup a specific customer using there last name\n",
    "customer_goyer = customer_directory['Goyer']\n",
    "print( customer_goyer)\n",
    "print(customer_goyer.first_name)"
   ]
  },
  {
   "cell_type": "markdown",
   "metadata": {},
   "source": [
    "## GET a specific customer\n",
    "Our API also allows us to get a specific customer by passing in the customer id.  Let's try that out.  Remember the format of the request is\n",
    "`/customers/<customer_id>` where `<customer_id>` is the id of the customer we want to get.\n",
    "\n",
    "Again we could go through the same thing and turn this into an object of type `Customer`.  For brevity we are going to leave this alone."
   ]
  },
  {
   "cell_type": "code",
   "execution_count": 36,
   "metadata": {},
   "outputs": [
    {
     "name": "stdout",
     "output_type": "stream",
     "text": [
      "Respose Status: 200\n",
      "[19, 'Tim', 'Goyer', 'Apple Inc.', '1 Infinite Loop', 'Cupertino', 'CA', 'USA', '95014', '+1 (408) 996-1010', '+1 (408) 996-1011', 'tgoyer@apple.com', 3]\n"
     ]
    }
   ],
   "source": [
    "# Set our endpoint\n",
    "url = \"http://localhost:5000/customers\"\n",
    "url = url + \"/\" + str(customer_goyer.id)\n",
    "\n",
    "# Again no specific payload or headers\n",
    "payload = {}\n",
    "headers = {}\n",
    "\n",
    "# Make the request\n",
    "response = requests.request(\"GET\", url, headers=headers, data=payload)\n",
    "\n",
    "# The response object contains a lot of information about the response, including the status code\n",
    "print(f\"Response Status: {response.status_code}\")\n",
    "\n",
    "customer = response.json()\n",
    "print(customer)"
   ]
  },
  {
   "cell_type": "markdown",
   "metadata": {},
   "source": [
    "## POST a new customer\n",
    "Now that we've gotten a customer, let's add a new one.  We can do this by making a POST request to the Flask app.  The format of the request is `/customers` and we need to pass in a JSON object with the customer data.  Let's try that out.\n",
    "\n",
    "A couple of things to note here.  Even though we are using a dictionary, which looks like valid JSON, we are going to have the json library ensure it's write by dumping the string to json.\n",
    "\n",
    "Second, we have to tell the Flask app that we are sending JSON data.  We do this by setting the `Content-Type` header to `application/json`."
   ]
  },
  {
   "cell_type": "code",
   "execution_count": 40,
   "metadata": {},
   "outputs": [
    {
     "name": "stdout",
     "output_type": "stream",
     "text": [
      "Response Status: 200\n",
      "None\n"
     ]
    }
   ],
   "source": [
    "# Set our endpoint\n",
    "url = \"http://localhost:5000/customers\"\n",
    "\n",
    "# Now let's build our payload\n",
    "new_customer = json.dumps({\n",
    "    \"FirstName\": \"John\",\n",
    "    \"LastName\": \"Doe\",\n",
    "    \"Company\": \"Acme, Inc.\",\n",
    "    \"Address\": \"123 Main St.\",\n",
    "    \"City\": \"Anytown\",\n",
    "    \"State\": \"CA\",\n",
    "    \"Country\": \"USA\",\n",
    "    \"PostalCode\": \"12345\",\n",
    "    \"Phone\": \"555-555-5555\",\n",
    "    \"Fax\": \"555-555-5555\"\n",
    "    })\n",
    "# We need to set the content type header\n",
    "headers = {'Content-Type': \"application/json\"}\n",
    "\n",
    "# Make the request\n",
    "response = requests.request(\"POST\", url, headers=headers, data=new_customer)\n",
    "\n",
    "# The response object contains a lot of information about the response, including the status code\n",
    "print(f\"Response Status: {response.status_code}\")"
   ]
  },
  {
   "cell_type": "markdown",
   "metadata": {},
   "source": [
    "Now, we expect to see our new record at the end of the list if we query for the customers again, so let's try."
   ]
  },
  {
   "cell_type": "code",
   "execution_count": 41,
   "metadata": {},
   "outputs": [
    {
     "name": "stdout",
     "output_type": "stream",
     "text": [
      "Response Status: 200\n",
      "[61, 'John', 'Doe', 'Acme, Inc.', '123 Main St.', 'Anytown', 'CA', 'USA', '12345', '555-555-5555', '555-555-5555', '', None]\n"
     ]
    }
   ],
   "source": [
    "# Set our endpoint\n",
    "url = \"http://localhost:5000/customers\"\n",
    "\n",
    "# We'll reserve the payload for POST/PUT methods generally\n",
    "payload = {}\n",
    "\n",
    "# We don't have any specific headers, but this can be used for authentication if required\n",
    "headers = {}\n",
    "\n",
    "# Make the request\n",
    "response = requests.request(\"GET\", url, headers=headers, data=payload)\n",
    "\n",
    "# The response object contains a lot of information about the response, including the status code\n",
    "print(f\"Response Status: {response.status_code}\")\n",
    "# We can also get the response body as text, json, html or other.  In our case, we know it's json so let's just ask for that\n",
    "customers = response.json()\n",
    "\n",
    "# This says to give us the last item in the list\n",
    "print(customers[-1])"
   ]
  },
  {
   "cell_type": "markdown",
   "metadata": {},
   "source": [
    "## PUT an update to a customer\n",
    "If you look closely at the last customer we just entered.  We forgot to put in their email address, oops!  Let's go ahead and update the customer.\n",
    "\n",
    "In order to update the customer, we need to make a PUT request to the Flask app.  The format of the request is `/customers/<customer_id>` where `<customer_id>` is the id of the customer we want to update.  We also need to pass in a JSON object with the customer data.  Let's try that out."
   ]
  },
  {
   "cell_type": "code",
   "execution_count": 58,
   "metadata": {},
   "outputs": [
    {
     "name": "stdout",
     "output_type": "stream",
     "text": [
      "61\n",
      "200\n",
      "[61, 'John', 'Doe', 'Acme, Inc.', '123 Main St.', 'Anytown', 'AR', 'USA', '12345', '123-555-1234', '555-555-5555', 'john.doe@example.com', None]\n"
     ]
    }
   ],
   "source": [
    "# Customer id, this we are getting from the first field in the last item in the list\n",
    "customer_id = customers[-1][0]\n",
    "print(customer_id)\n",
    "\n",
    "# Set our endpoint\n",
    "url = \"http://localhost:5000/customers\"\n",
    "\n",
    "# Now let's build our payload, the fields we want to update\n",
    "customer_update = json.dumps({\n",
    "    \"CustomerId\": customer_id,\n",
    "    \"Email\": \"john.doe@example.com\"\n",
    "     })\n",
    "# Again We need to set the content type header\n",
    "headers = {'Content-Type': \"application/json\"}\n",
    "\n",
    "# Make the request - notice we are using the PUT method\n",
    "response= requests.put(url, headers=headers, data=customer_update)\n",
    "\n",
    "print(response.status_code)\n",
    "# In this case, the result is the updated customer record\n",
    "print(response.json())"
   ]
  },
  {
   "cell_type": "markdown",
   "metadata": {},
   "source": [
    "## DELETE a customer\n",
    "Now that we have updated the customer, let's go ahead and delete them.  We can do this by making a DELETE request to the Flask app.  The format of the request is `/customers/<customer_id>` where `<customer_id>` is the id of the customer we want to delete.  Let's try that out."
   ]
  },
  {
   "cell_type": "code",
   "execution_count": 59,
   "metadata": {},
   "outputs": [
    {
     "name": "stdout",
     "output_type": "stream",
     "text": [
      "Deleting customer with id: 61\n",
      "200\n"
     ]
    }
   ],
   "source": [
    "print(f\"Deleting customer with id: {customer_id}\")\n",
    "\n",
    "# Set our endpoint\n",
    "url = f\"http://localhost:5000/customers/{customer_id}\"\n",
    "\n",
    "# Our payload is empty, just like with the get request\n",
    "payload = {}\n",
    "\n",
    "# And since we aren't sending any payload we don't have any headers\n",
    "headers = {}\n",
    "\n",
    "# Make the request - again we could use the verb as a parameter, but this is more explicit\n",
    "response= requests.delete(url, headers=headers, data=customer_update)\n",
    "\n",
    "print(response.status_code)\n"
   ]
  }
 ],
 "metadata": {
  "kernelspec": {
   "display_name": "base",
   "language": "python",
   "name": "python3"
  },
  "language_info": {
   "codemirror_mode": {
    "name": "ipython",
    "version": 3
   },
   "file_extension": ".py",
   "mimetype": "text/x-python",
   "name": "python",
   "nbconvert_exporter": "python",
   "pygments_lexer": "ipython3",
   "version": "3.11.3"
  }
 },
 "nbformat": 4,
 "nbformat_minor": 2
}
