{
 "cells": [
  {
   "cell_type": "markdown",
   "metadata": {},
   "source": [
    "# Try it– Developing Classes and Manipulating Objects\n",
    "\n",
    "The objective of this assignment is to provide you with hands-on experience in creating and manipulating objects in Python using object-oriented programming concepts. You will gain proficiency in defining classes, creating instances, setting attributes, and implementing methods.\n",
    "\n",
    "## Step 1 - Object Instantiation\n",
    "Here we are going to play around with creating instances of the classes that have been defined for you above.  Creating new instances and manipulating them after the fact."
   ]
  },
  {
   "cell_type": "code",
   "execution_count": null,
   "metadata": {},
   "outputs": [],
   "source": [
    "# This module contains the People class, which is used to create a list of people and the different types of people in our system\n",
    "# Create a class called Person which is the base class from which other classes will inherit\n",
    "class Person:\n",
    "\n",
    "    # Creating the properties of the Person class\n",
    "    # Notice that _id is a protected property, \n",
    "    #   this means that it can only be accessed by the Person class and any classes that inherit from it\n",
    "    _id = 0\n",
    "    first_name = \"\"\n",
    "    last_name = \"\"\n",
    "    \n",
    "    # A person has an ID, first name and last name \n",
    "    def __init__(self, id, first_name, last_name):\n",
    "        # We are using the set_id method to set the id property of the person\n",
    "        #  this ensures that all the checks we setup are run when we create a new person\n",
    "        self.id = id\n",
    "        self.first_name = first_name\n",
    "        self.last_name = last_name\n",
    "    \n",
    "    # The id property is a unique identifier for each person\n",
    "    # You may have noticed that we are using a getter and setter for the id property\n",
    "    #  this is because we want to ensure that the id is always a positive integer\n",
    "    def get_id(self):\n",
    "        return self.id\n",
    "    \n",
    "    # The setter for the id property.  This ensure we can do checks before accepting the value\n",
    "    def set_id(self, id):\n",
    "        # Check if the id is a positive integer, if not raise an exception\n",
    "        if id < 0:\n",
    "            raise ValueError(\"ID must be a positive integer\")\n",
    "        self.id = id\n"
   ]
  },
  {
   "cell_type": "code",
   "execution_count": null,
   "metadata": {},
   "outputs": [],
   "source": [
    "# Create a new person object\n",
    "p = Person(1, \"John\", \"Doe\")\n",
    "print(p)\n",
    "# Let's look at some of their details\n",
    "print(p.first_name)\n",
    "print(p.last_name)\n",
    "\n",
    "# We can use the getter method if we like...\n",
    "print(p.get_id())\n",
    "# .. but it is not necessary\n",
    "print(p.id)"
   ]
  },
  {
   "cell_type": "code",
   "execution_count": null,
   "metadata": {},
   "outputs": [],
   "source": [
    "# We can also use the setter method to change the id\n",
    "p.set_id(2)\n",
    "# But also, it isn't necessary - Python will call the set_id method for us\n",
    "p.id = 3"
   ]
  },
  {
   "cell_type": "code",
   "execution_count": null,
   "metadata": {},
   "outputs": [],
   "source": [
    "# You try setting the id to something other than a positive integer\n",
    "p.id = -1\n",
    "# You should get an error message\n",
    "# This is because our code in the setter method checks that the id is a positive integer"
   ]
  },
  {
   "cell_type": "markdown",
   "metadata": {},
   "source": [
    "## __str__ and __repr__ methods\n",
    "Notice above when we `print(p)` how it showed something like `<__main__.Person object at 0x7f567c7caf10>`.  This is telling us that there is an object here and the memory address at which the object of type `Person` is stored.  This is quite ugly.  \n",
    "\n",
    "We can improve this if we like by overriding one or both of the methods `__str__` and `__repr__` (these are auto-inherited from the default base Class `object` provided by Python).\n",
    "\n",
    "`__str__()` is used to provide a human readable string representation of the object.  It's called automatically whenever you use the `print()` or `str()` methods.  Though keep in mind, if you loop through an array of objects, you are not really printing the object, instead you are getting the representation of the object.\n",
    "\n",
    "`__repr__()` is used to provide an unambigious representation of the object.  By default it returns the ugly string you've seen above `<__main__.Person object at ...`.  It is helpful for debugging, but if you want to make sure that whenever you print or otherwise output a representation of your object it is pretty, you can override this method.\n",
    "\n",
    "To avoid confusion, I have left out pretty representations of the classes that we have developed, but you are welcome to implement them in your classes if you like."
   ]
  },
  {
   "cell_type": "markdown",
   "metadata": {},
   "source": [
    "### Your Turn - Part 1\n",
    "The next cell shows how to use the class we created above.  Remember a class is a blueprint, a container of sorts, which has spots for all the data we want to store about a particular \"thing\" (in this case, the thing is a person.)  We can fill in the data about the \"thing\" when we create an instance of the the thing (using a special function called a constructor ```__init__```) or we can set these values after we create the person."
   ]
  },
  {
   "cell_type": "code",
   "execution_count": null,
   "metadata": {},
   "outputs": [],
   "source": [
    "# Create a person called John Smith\n",
    "new_person = Person(1,\"John\", \"Smith\")\n",
    "# Print out the person's details:\n",
    "#  Print the person's ID\n",
    "print(\"Id: \", new_person.id)\n",
    "#  Print the person's first name\n",
    "print(\"First Name: \", new_person.first_name)\n",
    "#  Print the person's last name\n",
    "print(\"Last Name: \", new_person.last_name)"
   ]
  },
  {
   "cell_type": "markdown",
   "metadata": {},
   "source": [
    "Following the comments below, create a new person object (an instance of the Person class), print their details, change their name and print their details again.\n",
    "\n",
    "**_Note_: You can break this up into as many cells as you find helpful**"
   ]
  },
  {
   "cell_type": "code",
   "execution_count": null,
   "metadata": {},
   "outputs": [],
   "source": [
    "# Create a person called Susan Jones with ID 2\n",
    "# Print out Susan's details:\n",
    "#  Print the Susan's ID\n",
    "#  Print the Susan's first name\n",
    "#  Print the Susan's last name"
   ]
  },
  {
   "cell_type": "markdown",
   "metadata": {},
   "source": [
    "Susan and John decided to get married and so Susan changed her last name.  Update the object with Susan's information to reflect her new name.  (Don't create a new object, just update the current one)"
   ]
  },
  {
   "cell_type": "code",
   "execution_count": null,
   "metadata": {},
   "outputs": [],
   "source": [
    "# Change the person's last name to Smith-Jones\n",
    "# Print out the person's details again"
   ]
  },
  {
   "cell_type": "markdown",
   "metadata": {},
   "source": [
    "## Step 2 - Class inheritance\n",
    "Now we are going to get a little more specific and define Instructors, which are a special kind of \"Person\" that happens to teach courses at our university.  The following code snippet defines the instructor class and the course class"
   ]
  },
  {
   "cell_type": "code",
   "execution_count": null,
   "metadata": {},
   "outputs": [],
   "source": [
    "# Create a class called course\n",
    "# A course is a class that a student can take and an instructor can teach\n",
    "class Course:\n",
    "    # We are going to set the properties to default values\n",
    "    # since we don't have any special logic to apply these properties when they are accessed or assigned\n",
    "    # we don't need to create getters and setters for them\n",
    "    course_number = 0\n",
    "    course_name = \"\"\n",
    "    description = \"\"\n",
    "    department = \"\"\n",
    "    credits = 0\n",
    "\n",
    "    # A course has a course ID, course name, description, department and credits\n",
    "    def __init__(self, course_number, course_name, description, department, credits):\n",
    "        self.credits = credits\n",
    "        self.course_number = course_number\n",
    "        self.course_name = course_name\n",
    "        self.description = description\n",
    "        self.department = department\n",
    "        \n",
    "    # The course number is a unique identifier for each course which must be greater than 0\n",
    "    # Also, at the UofA the last number in the course number is the number of credits\n",
    "    def set_course_number(self, course_number):\n",
    "        if course_number < 0:\n",
    "            raise ValueError(\"Course number must be a positive integer\")\n",
    "        # Checking the last digit of the course number is the number of credits\n",
    "        if course_number % 10 != self.credits:\n",
    "            raise ValueError(\"The last digit of the course number must be the number of credits\")\n",
    "        self.course_number = course_number\n",
    "    \n",
    "    # The course ID is a combination of the department and course number\n",
    "    # It can't be set directly, but can be retrieved\n",
    "    def get_course_id(self):\n",
    "        return f'{self.department}{self.course_number}'\n",
    "    \n",
    "\n",
    "# Create a class called Instructor which inherits from the Person class\n",
    "# An instructor is a person who teaches one or more courses\n",
    "class Instructor(Person):\n",
    "    # We are going to set the properties to default values\n",
    "    # We want to ensure that someone doesn't accidentally change the value of the courses_teaching property\n",
    "    #  so we are going to make it a protected property\n",
    "    _courses_teaching = []\n",
    "    _first_year_teaching = 1950\n",
    "\n",
    "    # An instructor has an ID, first name, last name, and first year teaching\n",
    "    def __init__(self, id, first_name, last_name, first_year_teaching):\n",
    "        # Initialize the Person class\n",
    "        super().__init__(id, first_name, last_name)\n",
    "        self.first_year_teaching = first_year_teaching\n",
    "\n",
    "    # Build a property for the first year teaching\n",
    "    def get_first_year_teaching(self):\n",
    "        return self._first_year_teaching\n",
    "    \n",
    "    def set_first_year_teaching(self, first_year_teaching):\n",
    "        # We will check to ensure that the first year teaching is after 1950\n",
    "        if first_year_teaching < 1950:\n",
    "            raise ValueError(\"First year teaching must be a positive integer after 1950\")\n",
    "        self._first_year_teaching = first_year_teaching\n",
    "    \n",
    "    # An instructor can teach a course\n",
    "    def add_course(self, course):\n",
    "        self._courses_teaching.append(course)\n",
    "\n",
    "    # An instructor can stop teaching a course\n",
    "    def remove_course(self, course):\n",
    "        self._courses_teaching.remove(course)\n",
    "\n",
    "    # An instructor can get a list of courses they are teaching\n",
    "    def get_courses(self):\n",
    "        return self._courses_teaching"
   ]
  },
  {
   "cell_type": "markdown",
   "metadata": {},
   "source": [
    "Notice we have added a property (```courses```) and a few methods for dealing with the courses ```add_course()```, ```remove_course()```.  Again, since we have created only a **getter** for the ```courses``` property, there is no way to set the ```courses``` property directly.\n",
    "\n",
    "```python\n",
    "    new_instructor = Instructor('James', 'Beam',2020)\n",
    "    # This will return an error\n",
    "    new_instructor.courses = []\n",
    "```"
   ]
  },
  {
   "cell_type": "code",
   "execution_count": null,
   "metadata": {},
   "outputs": [],
   "source": [
    "isys_1234 = Course(1234, \"Introduction to Programming\", \"This course introduces students to programming\", \"ISYS\", 3)\n",
    "isys_5713 = Course(course_number=5713, \n",
    "                   course_name=\"Advanced Programming\", \n",
    "                   description=\"This course introduces students to advanced programming\", \n",
    "                   department=\"ISYS\",\n",
    "                   credits= 3)\n",
    "# Get the default representation of the course\n",
    "print(isys_1234)\n",
    "# Print the details associated with the course\n",
    "print(isys_1234.course_name)\n",
    "print('----------')\n",
    "print(f'{isys_1234.department}{isys_1234.course_number}')\n",
    "print(isys_1234.description)\n",
    "print(f'credits: {isys_1234.credits}')\n",
    "print()\n",
    "\n",
    "# Get the default representation of the course\n",
    "print(isys_5713)\n",
    "print(isys_5713.course_name)\n",
    "print('----------')\n",
    "print(f'{isys_5713.department}{isys_5713.course_number}')\n",
    "print(isys_5713.description)\n",
    "print(f'credits: {isys_5713.credits}')"
   ]
  },
  {
   "cell_type": "markdown",
   "metadata": {},
   "source": [
    "### Your Turn #2\n",
    "Define a new instructor according to the code comments below and follow the steps as outlined.  You should use as many notebook cells as you like (for instance, you may prefer to create one cell for each modification, showing the before and after at each step)."
   ]
  },
  {
   "cell_type": "code",
   "execution_count": null,
   "metadata": {},
   "outputs": [],
   "source": [
    "# Create an instructor called Alex Abbott , he started teaching in 2015 and teaches ISYS1234\n",
    "# Print out the instructor's details\n",
    "# Print out the courses the instructor is teaching (include the number, name, description and department)\n",
    "# Add a new course for the instructor to teach (ISYS5713)\n",
    "# Print out the courses the instructor is teaching (include the number, name, description and department)\n",
    "# Remove a course for the instructor to teach\n",
    "# Print out the courses the instructor is teaching (include the number, name, description and department)"
   ]
  },
  {
   "cell_type": "markdown",
   "metadata": {},
   "source": [
    "## Step 3 - Creating your own classes\n",
    "Now it's time to venture out on your own.  Here you should create a student class.  Students are a special type of person.  They are similar to instructors in that they also have courses, but they also have some unique features like grade point averages.  They don't have a year they began teaching, so we can't inherit from the instructor class.\n",
    "\n",
    "### Your Turn #3\n",
    "1. Create a student class.  It should be a subclass of `Person`, but also have a list of courses they are currently taking and a current grade point average (int)\n",
    "2. Create a student object for a student called _Susan Smartinez_, you can choose her GPA and which courses she is taking\n",
    "3. Add a course, remove a course, and update her GPA.  Show the results of each step along the way\n",
    "\n",
    "***For extra credit, modify the student class to keep track of the grade for each class and the semester it was taken***\n",
    "\n",
    "**HINT**: You could consider replacing the course list with a dictionary instead."
   ]
  },
  {
   "cell_type": "code",
   "execution_count": null,
   "metadata": {},
   "outputs": [],
   "source": [
    "class Student(Person):\n",
    "    \n",
    "    _current_gpa = 0\n",
    "    _sections = {}\n",
    "    \n",
    "    # Initializer method\n",
    "    def __init__(self, id, first_name, last_name):\n",
    "        super().__init__(id, first_name=first_name, last_name=last_name)\n",
    "        \n",
    "    # Sections are stored in the _section dictionary with the key being the section_id and the value as the section object\n",
    "    def add_section(self, section):\n",
    "        self._sections[section.section_id]=section\n",
    "    \n",
    "    def get_all_sections(self):\n",
    "        return self._sections.values()\n",
    "\n",
    "class Section():\n",
    "    semester_taken = \"\"\n",
    "    class_grade = \"\"\n",
    "    course = None\n",
    "    _section_id = \"\"\n",
    "    \n",
    "    def __init__(self, course,semester_taken, class_grade):\n",
    "        self.course = course\n",
    "        self.semester_taken = semester_taken\n",
    "        self.class_grade = class_grade\n",
    "    \n",
    "    # Section_id is a combination of the course_id and the semester in which it was taken\n",
    "    def get_section_id(self):\n",
    "        return f'{self.course.course_id}_{self.semester_taken}'\n"
   ]
  }
 ],
 "metadata": {
  "kernelspec": {
   "display_name": "Python 3",
   "language": "python",
   "name": "python3"
  },
  "language_info": {
   "codemirror_mode": {
    "name": "ipython",
    "version": 3
   },
   "file_extension": ".py",
   "mimetype": "text/x-python",
   "name": "python",
   "nbconvert_exporter": "python",
   "pygments_lexer": "ipython3",
   "version": "3.11.3"
  },
  "orig_nbformat": 4
 },
 "nbformat": 4,
 "nbformat_minor": 2
}
